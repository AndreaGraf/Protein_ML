{
 "cells": [
  {
   "cell_type": "code",
   "execution_count": 4,
   "metadata": {},
   "outputs": [],
   "source": [
    "import matplotlib.pyplot as plt\n",
    "\n",
    "import os \n",
    "import sys\n",
    "import numpy as np\n",
    "import pandas as pd\n",
    "\n",
    "import torch\n",
    "\n",
    "import re\n",
    "import glob\n",
    "import h5py\n",
    "\n",
    "from dataclasses import dataclass, InitVar"
   ]
  },
  {
   "cell_type": "code",
   "execution_count": 5,
   "metadata": {},
   "outputs": [
    {
     "name": "stderr",
     "output_type": "stream",
     "text": [
      "/home/andrea/anaconda3/envs/automl/lib/python3.9/site-packages/tqdm/auto.py:21: TqdmWarning: IProgress not found. Please update jupyter and ipywidgets. See https://ipywidgets.readthedocs.io/en/stable/user_install.html\n",
      "  from .autonotebook import tqdm as notebook_tqdm\n"
     ]
    }
   ],
   "source": [
    "#import utilities from the automl package\n",
    "base_path = os.getcwd()\n",
    "sys.path.append(base_path)\n",
    "\n",
    "import automl\n",
    "from automl.models import VAE, ENC_M, ENC_M_dz\n",
    "from automl.dataloaders import (\n",
    "                                SequenceDataModule, \n",
    "                                Sequence_WT_DataModule,\n",
    "                                EmbeddingsDataModule, \n",
    "                                Embeddings_WT_Dataset\n",
    ")"
   ]
  },
  {
   "attachments": {},
   "cell_type": "markdown",
   "metadata": {},
   "source": [
    "## Brief Description of the input Ddatasets\n",
    "The dataset contains two input sources: a .csv file containing  protein variants, mutated sequences, and experimental $\\Delta \\Delta G$ scores, along with a .pdb structure file for each protein id.  $\\Delta \\Delta G$ scores measure the free energy change for unfolding a protein variant, compared to that for unfolding the corresponding wild type. Aim of the project, is the prediction of this free energy change, for a given sequence. \n",
    "\n",
    "in the following section we take a closer look at the sequence specific data. "
   ]
  },
  {
   "attachments": {},
   "cell_type": "markdown",
   "metadata": {},
   "source": [
    "## 1) Analysis of the input data\n",
    "\n"
   ]
  },
  {
   "cell_type": "code",
   "execution_count": 6,
   "metadata": {},
   "outputs": [
    {
     "data": {
      "text/html": [
       "<div>\n",
       "<style scoped>\n",
       "    .dataframe tbody tr th:only-of-type {\n",
       "        vertical-align: middle;\n",
       "    }\n",
       "\n",
       "    .dataframe tbody tr th {\n",
       "        vertical-align: top;\n",
       "    }\n",
       "\n",
       "    .dataframe thead th {\n",
       "        text-align: right;\n",
       "    }\n",
       "</style>\n",
       "<table border=\"1\" class=\"dataframe\">\n",
       "  <thead>\n",
       "    <tr style=\"text-align: right;\">\n",
       "      <th></th>\n",
       "      <th>pdbid</th>\n",
       "      <th>score</th>\n",
       "      <th>variant</th>\n",
       "      <th>aa_seq</th>\n",
       "      <th>aa_seq_full</th>\n",
       "      <th>chainid</th>\n",
       "    </tr>\n",
       "  </thead>\n",
       "  <tbody>\n",
       "    <tr>\n",
       "      <th>0</th>\n",
       "      <td>1GYZ</td>\n",
       "      <td>0.228775</td>\n",
       "      <td>W1Q</td>\n",
       "      <td>QIARINAAVRAYGLNYSTFINGLKKAGIELDRKILADMAVRDPQAF...</td>\n",
       "      <td>SAGGSAQIARINAAVRAYGLNYSTFINGLKKAGIELDRKILADMAV...</td>\n",
       "      <td>A</td>\n",
       "    </tr>\n",
       "    <tr>\n",
       "      <th>1</th>\n",
       "      <td>1GYZ</td>\n",
       "      <td>0.496896</td>\n",
       "      <td>W1E</td>\n",
       "      <td>EIARINAAVRAYGLNYSTFINGLKKAGIELDRKILADMAVRDPQAF...</td>\n",
       "      <td>SAGGSAEIARINAAVRAYGLNYSTFINGLKKAGIELDRKILADMAV...</td>\n",
       "      <td>A</td>\n",
       "    </tr>\n",
       "    <tr>\n",
       "      <th>2</th>\n",
       "      <td>1GYZ</td>\n",
       "      <td>0.163002</td>\n",
       "      <td>W1N</td>\n",
       "      <td>NIARINAAVRAYGLNYSTFINGLKKAGIELDRKILADMAVRDPQAF...</td>\n",
       "      <td>SAGGSANIARINAAVRAYGLNYSTFINGLKKAGIELDRKILADMAV...</td>\n",
       "      <td>A</td>\n",
       "    </tr>\n",
       "    <tr>\n",
       "      <th>3</th>\n",
       "      <td>1GYZ</td>\n",
       "      <td>0.209013</td>\n",
       "      <td>W1H</td>\n",
       "      <td>HIARINAAVRAYGLNYSTFINGLKKAGIELDRKILADMAVRDPQAF...</td>\n",
       "      <td>SAGGSAHIARINAAVRAYGLNYSTFINGLKKAGIELDRKILADMAV...</td>\n",
       "      <td>A</td>\n",
       "    </tr>\n",
       "    <tr>\n",
       "      <th>4</th>\n",
       "      <td>1GYZ</td>\n",
       "      <td>0.407602</td>\n",
       "      <td>W1D</td>\n",
       "      <td>DIARINAAVRAYGLNYSTFINGLKKAGIELDRKILADMAVRDPQAF...</td>\n",
       "      <td>SAGGSADIARINAAVRAYGLNYSTFINGLKKAGIELDRKILADMAV...</td>\n",
       "      <td>A</td>\n",
       "    </tr>\n",
       "  </tbody>\n",
       "</table>\n",
       "</div>"
      ],
      "text/plain": [
       "  pdbid     score variant                                             aa_seq   \n",
       "0  1GYZ  0.228775     W1Q  QIARINAAVRAYGLNYSTFINGLKKAGIELDRKILADMAVRDPQAF...  \\\n",
       "1  1GYZ  0.496896     W1E  EIARINAAVRAYGLNYSTFINGLKKAGIELDRKILADMAVRDPQAF...   \n",
       "2  1GYZ  0.163002     W1N  NIARINAAVRAYGLNYSTFINGLKKAGIELDRKILADMAVRDPQAF...   \n",
       "3  1GYZ  0.209013     W1H  HIARINAAVRAYGLNYSTFINGLKKAGIELDRKILADMAVRDPQAF...   \n",
       "4  1GYZ  0.407602     W1D  DIARINAAVRAYGLNYSTFINGLKKAGIELDRKILADMAVRDPQAF...   \n",
       "\n",
       "                                         aa_seq_full chainid  \n",
       "0  SAGGSAQIARINAAVRAYGLNYSTFINGLKKAGIELDRKILADMAV...       A  \n",
       "1  SAGGSAEIARINAAVRAYGLNYSTFINGLKKAGIELDRKILADMAV...       A  \n",
       "2  SAGGSANIARINAAVRAYGLNYSTFINGLKKAGIELDRKILADMAV...       A  \n",
       "3  SAGGSAHIARINAAVRAYGLNYSTFINGLKKAGIELDRKILADMAV...       A  \n",
       "4  SAGGSADIARINAAVRAYGLNYSTFINGLKKAGIELDRKILADMAV...       A  "
      ]
     },
     "execution_count": 6,
     "metadata": {},
     "output_type": "execute_result"
    }
   ],
   "source": [
    "#loading the data \n",
    "data_dir = 'Data'\n",
    "stability_df = pd.read_csv(os.path.join(data_dir,'mega_scale_ddg_single_mut_with_seq_no_con.csv'))\n",
    "stability_df.head()"
   ]
  },
  {
   "attachments": {},
   "cell_type": "markdown",
   "metadata": {},
   "source": [
    "#### First we take a closer look at the score column i.e. our target variable values."
   ]
  },
  {
   "cell_type": "code",
   "execution_count": 7,
   "metadata": {},
   "outputs": [
    {
     "data": {
      "text/plain": [
       "<Axes: ylabel='Frequency'>"
      ]
     },
     "execution_count": 7,
     "metadata": {},
     "output_type": "execute_result"
    },
    {
     "data": {
      "image/png": "[encoded data removed]",
      "text/plain": [
       "<Figure size 640x480 with 1 Axes>"
      ]
     },
     "metadata": {},
     "output_type": "display_data"
    }
   ],
   "source": [
    "stability_df.score.plot.hist(bins=50)"
   ]
  },
  {
   "attachments": {},
   "cell_type": "markdown",
   "metadata": {},
   "source": [
    " The score distribution is rather skewed. As we are dealing with relative free energies, the value of 0 corresponds to the wild type score. Clearly there are not many variants that lead to greater protein stability, whereas some variants can strongly destabilize the folded state. \n",
    "\n",
    " This means that standard or minmax scaling will have the side effect of moving the maximum of the distribution away from zero. In principle one could attempt other transforms to create a more gaussian like distribution, however this  a) distorts the underlying physical interactions that lead to this distribution and b) leads to a different scaling of experimental uncertainties of the datapoints.  \n",
    "\n",
    " As an alternative we can use \"half\" of a standard scaler to reduce the distribution width of the negative part of the distribution to a (pseudo) std of 1. We do this by assuming a symmetrical distribution with mean at 0. For this one standard deviation can be calculated by using only the negative half of the distribution by $\\sqrt (\\sum (y²))$"
   ]
  },
  {
   "cell_type": "code",
   "execution_count": 8,
   "metadata": {},
   "outputs": [
    {
     "data": {
      "text/plain": [
       "<Axes: ylabel='Frequency'>"
      ]
     },
     "execution_count": 8,
     "metadata": {},
     "output_type": "execute_result"
    },
    {
     "data": {
      "image/png": "[encoded data removed]",
      "text/plain": [
       "<Figure size 640x480 with 1 Axes>"
      ]
     },
     "metadata": {},
     "output_type": "display_data"
    }
   ],
   "source": [
    "#create a pseudo std for the  negative tail for scaling. \n",
    "pseudo_std = np.sqrt(sum(np.power(stability_df[stability_df.score <=0]['score'],2))/len(stability_df[stability_df.score <=0]))\n",
    "stability_df['score_scaled'] = stability_df['score']/pseudo_std\n",
    "stability_df.score_scaled.plot.hist(bins=50)"
   ]
  },
  {
   "attachments": {},
   "cell_type": "markdown",
   "metadata": {},
   "source": [
    "The stability of a protein is closely linked to the probability of it's existence in the cell, denatured proteins are easily degraded by autophagy. Many high throughput assays for protein variants exploit this relation. In such assays it is assumed that stability is the only factor which can be inferred from number counts. (MAVE reference) \n",
    "\n",
    "Following this assumption, the probability of observing a given variant relative to the wt is $\\propto \\exp(-\\Delta\\Delta G)$. For modelling this could be used in the sampling probability for a variational autoencoder model. \n",
    "\n",
    "The distribution of probabilities: "
   ]
  },
  {
   "cell_type": "code",
   "execution_count": 9,
   "metadata": {},
   "outputs": [
    {
     "name": "stderr",
     "output_type": "stream",
     "text": [
      "/tmp/ipykernel_3579406/2216696526.py:7: UserWarning: Matplotlib is currently using module://matplotlib_inline.backend_inline, which is a non-GUI backend, so cannot show the figure.\n",
      "  fig.show()\n"
     ]
    },
    {
     "data": {
      "image/png": "[encoded data removed]",
      "text/plain": [
       "<Figure size 640x480 with 1 Axes>"
      ]
     },
     "metadata": {},
     "output_type": "display_data"
    }
   ],
   "source": [
    "fig, ax = plt.subplots(1,1)\n",
    "\n",
    "proba = np.exp(stability_df.score)\n",
    "ax.hist(proba, bins=200)\n",
    "ax.set_xlim(0,3)\n",
    "\n",
    "fig.show()"
   ]
  },
  {
   "attachments": {},
   "cell_type": "markdown",
   "metadata": {},
   "source": [
    "#### Other Factors: sequence length and amino acid content "
   ]
  },
  {
   "cell_type": "code",
   "execution_count": 10,
   "metadata": {},
   "outputs": [
    {
     "name": "stdout",
     "output_type": "stream",
     "text": [
      "72 30\n"
     ]
    },
    {
     "data": {
      "text/plain": [
       "<Axes: ylabel='Frequency'>"
      ]
     },
     "execution_count": 10,
     "metadata": {},
     "output_type": "execute_result"
    },
    {
     "data": {
      "image/png": "[encoded data removed]",
      "text/plain": [
       "<Figure size 640x480 with 1 Axes>"
      ]
     },
     "metadata": {},
     "output_type": "display_data"
    }
   ],
   "source": [
    "#get the range of sequence lengths and distribution\n",
    "print(stability_df.aa_seq.apply(len).max(), stability_df.aa_seq.apply(len).min())\n",
    "stability_df.aa_seq.apply(len).plot.hist(bins=20)"
   ]
  },
  {
   "attachments": {},
   "cell_type": "markdown",
   "metadata": {},
   "source": [
    "All protein sequences are comparatively short, between 30 and 70 AA. Meaning that array sizes are likely to remain managable. Short sequences will also most likey allow the use of smaller model sizes, because no very long range correlations have to be accounted for. "
   ]
  },
  {
   "cell_type": "code",
   "execution_count": 11,
   "metadata": {},
   "outputs": [
    {
     "name": "stdout",
     "output_type": "stream",
     "text": [
      "20 amino acids found\n"
     ]
    },
    {
     "data": {
      "image/png": "[encoded data removed]",
      "text/plain": [
       "<Figure size 640x480 with 1 Axes>"
      ]
     },
     "metadata": {},
     "output_type": "display_data"
    }
   ],
   "source": [
    "from collections import Counter\n",
    "def compute_aminoacids_freq(df):\n",
    "    freq_per_acid = Counter(\"\".join(df[\"aa_seq\"]))\n",
    "    return dict(freq_per_acid)\n",
    "\n",
    "amino_acids_freq = compute_aminoacids_freq(stability_df)\n",
    "print( len(amino_acids_freq), 'amino acids found')\n",
    "plt.bar(range(len(amino_acids_freq)), list(amino_acids_freq.values()), align='center')\n",
    "plt.xticks(range(len(amino_acids_freq)), list(amino_acids_freq.keys()))\n",
    "\n",
    "plt.show()"
   ]
  },
  {
   "cell_type": "code",
   "execution_count": 12,
   "metadata": {},
   "outputs": [
    {
     "name": "stdout",
     "output_type": "stream",
     "text": [
      "rarest AA:  36018\n"
     ]
    }
   ],
   "source": [
    "print('rarest AA: ', amino_acids_freq['C'])"
   ]
  },
  {
   "attachments": {},
   "cell_type": "markdown",
   "metadata": {},
   "source": [
    "No non standard Amino acids are present in the set. Even the least frequent has 36000 occurences.  "
   ]
  },
  {
   "attachments": {},
   "cell_type": "markdown",
   "metadata": {},
   "source": [
    "### Protein specific data split considerations: \n",
    "\n",
    "a random dataset split may lead to considerable data leaks, because mutations in the same position are likely to have correlated effects. \n",
    "\n",
    "Alternatively we can consider  a 'per residue' split or a 'per protein' split chould be considered. On the other hand, the latter would require models to perform a very high degree of extrapolation, which is likely not ideal as validation. However some proteins may be held out for testing on unseen data. "
   ]
  },
  {
   "attachments": {},
   "cell_type": "markdown",
   "metadata": {},
   "source": [
    "## 2) Methods Review and Proposed Strategy\n",
    "\n",
    "### Background\n",
    "\n",
    "the task of predicting thermodynamic folding stability of proteins can be addressed by several approaches. These can be basedeither mainly on  (A) on the protein folded structures or (B) on the protein sequences, though both are not mutually exclusive and ideally information from both could be used to improve predictions as for example through the use of structural contact maps in training sequence based models, or, inversely the use of .\n",
    "\n",
    "(A) Structure based approches are often physics based, i.e. they aim to predict the stability based on molecular interaction potentials. A frequently used approach are Free Energy Perturbation simulations (e.g.)) However such methods are still comaratively computationall expensive, even for small proteins, so that a scan of many variants requires extensive compute resources. \n",
    "\n",
    "(B) Methods based on sequence are typically information based, rather than trying to model physical properties, and aim to learn the underlying design principles from statistical information available in large biological databases. Many large advances have been made in the field of deep learning on proteins sequneces. Notable examples are the recent breakthroughs in solving the protein folding problem (Alphafold2 , ESM Fold, RosettaTX) which utilize tools from NLP.   \n",
    " \n",
    " In many case, the use of evolutionary data in the form of multy sequence alignment data (MSA) of related proteins from diverse species greatly increases model accuracy  On the other hand autoregressive models have proved valuable, especially for cases, in which limited to no MSA data is available. \n",
    "\n",
    " As an alternative to the Deep Convollutional Networks usng dilated convolutions to capture long range context have had good success in learning underlying principles of protein sequences, for instance using an ensemble of CNN models to classify protein domain function and the engineering (ProtCNN) of new functional proteins (BioSeqVae) \n",
    " \n",
    " Large models with millions of parameters, however even small neural network models with fully connected feed forward layers have achieved good predictive power for predicting effects of single variant mutations when trained. One example is the EVE model, a genartaive VAE model trained on sampling evolutionary data and calculate the odds ratio of observing a mutation wrt the wild type. A second model is MAVE_NN which embeds sequences with a feed forward NN and trains a non linear predictor to map the latent representation to target variable. \n",
    "\n",
    " Both models are trained on single protein data, and given their simple architecture it is unlikely that they will generalize well to predicting, but represent a good starting point for model development to which more advanced encoder/ embedding architectures can be added.  \n",
    "\n",
    "In all cases the cental key to modelling protein sequences is to learn an informative reduced demensionality represnetation of the sequence\n",
    "\n",
    "\n",
    "## Protein language models\n",
    "\n",
    "One of the top performing protein language models is the T5 ProtTrans (protein transformer) model\n",
    " ProtTrans: https://github.com/agemagician/ProtTrans\n",
    " ProtTrans embedding scripts: https://github.com/Rostlab/VESPA/blob/main/README.md\n",
    "\n",
    "The advantage of using such models is that they do not require the engineering and fine tuning of features, but rather learn the input features based on large amounts of data  \n",
    "\n",
    "## Strategy\n",
    "\n",
    "A central challenge in developing deep learning models, is the vast space of parameters to tune and optimize. \n",
    "Therefore, here models are setup within  a framework that allow to adaptively add model components, and eaily iterate through training parameters . \n",
    "\n",
    "This Framework is defined in the automl package.\n",
    "\n",
    "In this project two simple model architectures based on the MAVE-NN (https://github.com/jbkinney/mavenn), and EVE (https://github.com/OATML/EVE) Models. These can serve as a baseline for evaluating performance of more advanced models. \n",
    "\n",
    "Once simulations are running, and tuned, more advanced model components such as a ResNet CNN Encoder can easily be integrated, by ading it to the encoder directory and creating a corresponding config yaml that specifies the target function. \n",
    "\n",
    "Here, after basic model setup, we will explore the possibilities that embedding vectors generated by massive pretrained language models offer. \n",
    "\n"
   ]
  },
  {
   "attachments": {},
   "cell_type": "markdown",
   "metadata": {},
   "source": [
    "## Preparing the Datasets for the proposed Models\n",
    "\n",
    "Based on the above considerations, and potential model requirements we ... following outline: \n",
    "\n",
    "- pad the sequences to the same lenth (most models require constant input dimensions)\n",
    "- take out a few proteins from training data for evaluation of model extrapolation\n",
    "- create different data splits (i) random - for comparison, as this often done in the literature, (ii) per residu (iii) per protein\n",
    "- create a few single protein sets, for quick optimization and comarison to protein specific models in the literature. \n"
   ]
  },
  {
   "cell_type": "code",
   "execution_count": 13,
   "metadata": {},
   "outputs": [],
   "source": [
    "from automl.dataloaders.utils import generate_dict_from_alphabet\n",
    "\n",
    "#creating a index lookup table for aminoacids in the alphabet\n",
    "protein_alphabet = \"ACDEFGHIKLMNPQRSTVWY\"\n",
    "protein_AA_dict = generate_dict_from_alphabet(protein_alphabet)"
   ]
  },
  {
   "cell_type": "code",
   "execution_count": 14,
   "metadata": {},
   "outputs": [],
   "source": [
    "from automl.dataloaders.utils import pad_sequence\n",
    "#Padding all sequences to the same length\n",
    "\n",
    "max_length = 72\n",
    "seq_list = stability_df.aa_seq.to_list()\n",
    "stability_df['padded_seq'] = [pad_sequence(s,max_length) for s in seq_list]\n",
    "\n",
    "# and spliting the Variant specification to extract the WT AA as well as the position. \n",
    "# we'll use this to reconstruct the wild type sequence. \n",
    "matches_list = [re.findall('([A-Za-z])([0-9]+)([A-Za-z])', s)\n",
    "                        for s in stability_df['variant']]\n",
    "\n",
    "stability_df[['WT', 'pos', 'MUT']] = np.array(matches_list)[:].reshape(-1,3)"
   ]
  },
  {
   "cell_type": "code",
   "execution_count": 15,
   "metadata": {},
   "outputs": [
    {
     "name": "stdout",
     "output_type": "stream",
     "text": [
      "310 unique protein pdb ids found\n"
     ]
    }
   ],
   "source": [
    "# For the per residue and per protein datasplits,\n",
    "# collect info for each protein in the set and unique (protein,position)\n",
    "#  assumption: single mutation data -> there is a unique wt sequence for each pdb id. \n",
    "# (in fact this is not strictly true )  \n",
    "\n",
    "@dataclass\n",
    "class protein:\n",
    "    pdb_name: str\n",
    "    wt: str \n",
    "    seq_len: int \n",
    "\n",
    "def make_WT (seq:str, pos:int, AA:str)->str:\n",
    "    wt = seq[:pos-1] + AA + seq[pos:]\n",
    "    return wt\n",
    "\n",
    "proteins = stability_df.drop_duplicates(['pdbid'])[['pdbid','aa_seq','WT','MUT','pos' ]]\n",
    "protein_list = []\n",
    "for i,r in proteins.iterrows():\n",
    "    wt= make_WT(r.aa_seq, int(r.pos), r.WT)\n",
    "    protein_list.append(protein(pdb_name= r.pdbid, wt= wt,  seq_len=len(r.aa_seq)))\n",
    "\n",
    "protein_position_pairs = [(p.pdb_name, i+1) for p in protein_list for i in range(p.seq_len)]\n",
    "\n",
    "print(len(protein_list), 'unique protein pdb ids found')"
   ]
  },
  {
   "cell_type": "code",
   "execution_count": 22,
   "metadata": {},
   "outputs": [],
   "source": [
    "#add the corresponding padded wt sequence to each data line, this may serve as additional features\n",
    "prot_dict = {p.pdb_name: pad_sequence(p.wt, max_length) for p in protein_list}\n",
    "\n",
    "stability_df['wt'] = stability_df.pdbid.apply(lambda x: prot_dict[x] )"
   ]
  },
  {
   "cell_type": "code",
   "execution_count": 16,
   "metadata": {},
   "outputs": [],
   "source": [
    "#save for reference and loading in other notebooks\n",
    "import json\n",
    "\n",
    "wt_dict = open(os.path.join(data_dir, 'wt_sequences.json'),'w')\n",
    "json.dump({p.pdb_name: p.wt for p in protein_list}, wt_dict)\n",
    "\n",
    "wt_dict.close()"
   ]
  },
  {
   "cell_type": "markdown",
   "metadata": {},
   "source": [
    "Now we can create our different split datasets"
   ]
  },
  {
   "cell_type": "code",
   "execution_count": 18,
   "metadata": {},
   "outputs": [
    {
     "name": "stdout",
     "output_type": "stream",
     "text": [
      "3724 336054 339778\n"
     ]
    }
   ],
   "source": [
    "from torch.utils.data import random_split\n",
    "\n",
    "#get the total numbers for each split type\n",
    "N_proteins = len(protein_list)\n",
    "N_total_res_positions = len(protein_position_pairs)\n",
    "N_mutations = len(stability_df)\n",
    "\n",
    "# first withhold some (4) proteins from training completely\n",
    "N_withheld = 4\n",
    "protein_list_train, test_proteins = random_split(protein_list, [N_proteins-N_withheld, N_withheld])\n",
    "\n",
    "name_list =  [tp.pdb_name for tp in test_proteins]\n",
    "test_proteins_df = stability_df[stability_df['pdbid'].isin(name_list)]\n",
    "protein_df = stability_df.query(\"pdbid not  in @name_list\")\n",
    "\n",
    "print(len(test_proteins_df), len(protein_df), len(stability_df))\n"
   ]
  },
  {
   "cell_type": "code",
   "execution_count": 19,
   "metadata": {},
   "outputs": [],
   "source": [
    "val_fraction = 0.1\n",
    "test_fraction = 0.1\n",
    "\n",
    "#create a column to pick unique pdbid - varian pairs so that we can split al variants of any position into the\n",
    "#test or train set \n",
    "protein_df = protein_df.copy()\n",
    "protein_df['pair_col'] = protein_df.apply(lambda x: x.pdbid+'_'+x.pos, axis=1)\n",
    "\n",
    "#define split methods\n",
    "def split_numbers(N_total, fractions): \n",
    "    frac_list = [int(N_total*f ) for f in fractions]\n",
    "    \n",
    "    return tuple([N_total-sum(frac_list)] + frac_list)\n",
    "\n",
    "def split_random(df:pd.DataFrame, val_fract: float=0., test_fract:float=0.)-> list:\n",
    "    N_train, N_val, N_test = split_numbers(len(df), [val_fract, test_fract])\n",
    "\n",
    "    i1, i2, i3 = random_split(df.index, [N_train, N_val, N_test])  \n",
    "    return df[df.index.isin(list(i1))], df[df.index.isin(list(i2))], df[df.index.isin(list(i3))]\n",
    "    \n",
    "def split_per_residue(df, pairlist, val_fract: float=0., test_fract:float=0.):\n",
    "    N_train, N_val, N_test = split_numbers(len(pairlist), [val_fract, test_fract])\n",
    "\n",
    "    i1, i2, i3 = random_split(pairlist, [N_train, N_val, N_test])  \n",
    "        \n",
    "    i1= [t[0]+'_'+str(t[1]) for t in list(i1)]\n",
    "    i2= [t[0]+'_'+str(t[1]) for t in list(i2)]\n",
    "    i3= [t[0]+'_'+str(t[1]) for t in list(i3)]\n",
    "\n",
    "    return df[df.pair_col.isin(i1)], df[df.pair_col.isin(i2)],df[df.pair_col.isin(i3)]\n",
    "\n",
    "def split_per_protein(df, proteins, val_fract: float=0., test_fract:float=0.):\n",
    "    N_train, N_val, N_test = split_numbers(len(proteins), [val_fract, test_fract])\n",
    "\n",
    "    i1, i2, i3 = random_split(proteins, [N_train, N_val, N_test])  \n",
    "    i1 = [i.pdb_name for i in list(i1)]\n",
    "    i2 = [i.pdb_name for i in list(i2)]\n",
    "    i3 = [i.pdb_name for i in list(i3)]\n",
    "\n",
    "    return df[df.pdbid.isin(i1)],df[df.pdbid.isin(i2)],df[df.pdbid.isin(i3)]\n",
    "    "
   ]
  },
  {
   "cell_type": "code",
   "execution_count": 20,
   "metadata": {},
   "outputs": [
    {
     "name": "stdout",
     "output_type": "stream",
     "text": [
      "random split dataframe lengths: 268844 33605 33605\n",
      "by residue dataframe lengths: 269949 33109 32996\n",
      "by protein dataframe lengths: 272602 32259 31193\n"
     ]
    }
   ],
   "source": [
    "#random split data\n",
    "df_train_rand, df_val_rand, df_test_rand = split_random(protein_df, val_fraction, test_fraction)\n",
    "print('random split dataframe lengths:', len(df_train_rand), len(df_val_rand), len(df_test_rand))\n",
    "\n",
    "#per residue split of data\n",
    "df_train_res, df_val_res, df_test_res = split_per_residue(protein_df, protein_position_pairs, val_fraction, test_fraction)\n",
    "print('by residue dataframe lengths:', len(df_train_res), len(df_val_res), len(df_test_res))\n",
    "\n",
    "#per protein split of data \n",
    "df_train_prot, df_val_prot, df_test_prot = split_per_protein(protein_df, protein_list_train, val_fraction, test_fraction)\n",
    "print('by protein dataframe lengths:', len(df_train_prot), len(df_val_prot), len(df_test_prot))"
   ]
  },
  {
   "attachments": {},
   "cell_type": "markdown",
   "metadata": {},
   "source": [
    "Preparing the data to be handled by the automl dataloaders.- these expect a 'y' and a 'seq' column"
   ]
  },
  {
   "cell_type": "code",
   "execution_count": 18,
   "metadata": {},
   "outputs": [],
   "source": [
    "def dataframe_prep(df:pd.DataFrame, cols:list[str] = ['pdbid','score','padded_seq', 'wt'], csv_file:str = 'data.csv', scaler = 1.0):\n",
    "    \"\"\"preprocess and save dataframe compatible with dataloader\n",
    "    Args:\n",
    "        df (pd.DataFrame): input data\n",
    "        cols (list, optional): columns to include. Must include \"score\" and \"padded_seq\". Defaults to ['pdbid','score','padded_seq'].\n",
    "        csv_file (str, optional): output file name. Defaults to 'data.csv'.\n",
    "    \"\"\"\n",
    "    df = df[cols].copy() \n",
    "    df.rename(columns={'padded_seq':'seq'}, inplace=True)\n",
    "    df['y'] = df.score/scaler\n",
    "    df.to_csv(csv_file)"
   ]
  },
  {
   "cell_type": "code",
   "execution_count": 21,
   "metadata": {},
   "outputs": [],
   "source": [
    "#prepare and save all the data_sets\n",
    "data_sets = [df_train_rand, df_val_rand, df_test_rand, \n",
    "             df_train_res, df_val_res, df_test_res, \n",
    "             df_train_prot, df_val_prot, df_test_prot, \n",
    "             test_proteins_df]\n",
    "\n",
    "csv_names = [\"train_data_rand.csv\", \"val_data_rand.csv\", \"test_data_rand.csv\", \n",
    "            \"train_data_res.csv\", \"val_data_res.csv\", \"test_data_res.csv\",  \n",
    "             \"train_data_prot.csv\", \"val_data_prot.csv\", \"test_data_prot.csv\", \n",
    "             \"test_proteins_data.csv\"]\n",
    "\n",
    "#scaling the scores by the pseudo std calculated above. \n",
    "for df, csv in zip(data_sets,csv_names):\n",
    "    outfile = os.path.join(data_dir,'data_sets', csv)\n",
    "    dataframe_prep(df, csv_file=outfile, scaler=pseudo_std)"
   ]
  },
  {
   "cell_type": "code",
   "execution_count": 31,
   "metadata": {},
   "outputs": [],
   "source": [
    "#ead datasets back if needed \n",
    "df_train_rand = pd.read_csv(os.path.join(data_dir, 'data_sets', 'train_data_rand.csv'), index_col= 0)\n",
    "df_val_rand = pd.read_csv(os.path.join(data_dir, 'data_sets', 'val_data_rand.csv'), index_col= 0)\n",
    "df_test_rand = pd.read_csv(os.path.join(data_dir, 'data_sets', 'test_data_rand.csv'), index_col= 0)\n",
    "\n",
    "df_train_res = pd.read_csv(os.path.join(data_dir, 'data_sets', 'train_data_res.csv'), index_col= 0)\n",
    "df_val_res = pd.read_csv(os.path.join(data_dir,'data_sets', 'val_data_res.csv'), index_col= 0)\n",
    "df_test_res = pd.read_csv(os.path.join(data_dir, 'data_sets','test_data_res.csv'), index_col= 0)\n",
    "\n",
    "df_train_prot = pd.read_csv(os.path.join(data_dir, 'data_sets','train_data_prot.csv'), index_col= 0)\n",
    "df_val_prot = pd.read_csv(os.path.join(data_dir, 'data_sets','val_data_prot.csv'), index_col= 0)\n",
    "df_test_prot = pd.read_csv(os.path.join(data_dir, 'data_sets','test_data_prot.csv'), index_col= 0)\n",
    "\n",
    "test_proteins_df = pd.read_csv(os.path.join(data_dir, 'data_sets','test_proteins_data.csv'), index_col= 0)"
   ]
  },
  {
   "cell_type": "code",
   "execution_count": 32,
   "metadata": {},
   "outputs": [],
   "source": [
    "single_protein_names = ['1MJC', '1JIC', '1CSQ', '1O6X', '1MHN']\n",
    "\n",
    "for p in single_protein_names: \n",
    "    df_train_rand[df_train_rand.pdbid == p].to_csv(os.path.join(data_dir,'data_sets', 'train_rand_' + p +'.csv'))\n",
    "    df_train_res[df_train_res.pdbid == p].to_csv(os.path.join(data_dir,'data_sets', 'train_res_' + p +'.csv'))\n",
    "    df_val_rand[df_val_rand.pdbid == p].to_csv(os.path.join(data_dir,'data_sets', 'val_rand_' + p +'.csv'))\n",
    "    df_val_res[df_val_res.pdbid == p].to_csv(os.path.join(data_dir,'data_sets', 'val_res_' + p +'.csv'))\n",
    "    df_test_rand[df_test_rand.pdbid == p].to_csv(os.path.join(data_dir,'data_sets', 'test_rand_' + p +'.csv'))\n",
    "    df_test_res[df_test_res.pdbid == p].to_csv(os.path.join(data_dir,'data_sets', 'test_res_' + p +'.csv'))"
   ]
  },
  {
   "attachments": {},
   "cell_type": "markdown",
   "metadata": {},
   "source": [
    "With these datasets we can now proceed to trane some baseline models"
   ]
  },
  {
   "cell_type": "markdown",
   "metadata": {},
   "source": []
  }
 ],
 "metadata": {
  "kernelspec": {
   "display_name": "automl",
   "language": "python",
   "name": "python3"
  },
  "language_info": {
   "codemirror_mode": {
    "name": "ipython",
    "version": 3
   },
   "file_extension": ".py",
   "mimetype": "text/x-python",
   "name": "python",
   "nbconvert_exporter": "python",
   "pygments_lexer": "ipython3",
   "version": "3.9.12"
  },
  "orig_nbformat": 4
 },
 "nbformat": 4,
 "nbformat_minor": 2
}
